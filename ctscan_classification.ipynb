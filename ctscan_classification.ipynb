{
 "cells": [
  {
   "cell_type": "code",
   "execution_count": 1,
   "metadata": {
    "_cell_guid": "b1076dfc-b9ad-4769-8c92-a6c4dae69d19",
    "_uuid": "8f2839f25d086af736a60e9eeb907d3b93b6e0e5"
   },
   "outputs": [
    {
     "name": "stdout",
     "output_type": "stream",
     "text": [
      "/kaggle/input/NT_all_np.npy\n",
      "/kaggle/input/NVT_all_np.npy\n",
      "/kaggle/input/V_all_np.npy\n"
     ]
    }
   ],
   "source": [
    "# This Python 3 environment comes with many helpful analytics libraries installed\n",
    "# It is defined by the kaggle/python docker image: https://github.com/kaggle/docker-python\n",
    "# For example, here's several helpful packages to load in \n",
    "\n",
    "import numpy as np # linear algebra\n",
    "import pandas as pd # data processing, CSV file I/O (e.g. pd.read_csv)\n",
    "\n",
    "# Input data files are available in the \"../input/\" directory.\n",
    "# For example, running this (by clicking run or pressing Shift+Enter) will list all files under the input directory\n",
    "\n",
    "import os\n",
    "for dirname, _, filenames in os.walk('/kaggle/input'):\n",
    "    for filename in filenames:\n",
    "        print(os.path.join(dirname, filename))"
   ]
  },
  {
   "cell_type": "code",
   "execution_count": 2,
   "metadata": {},
   "outputs": [
    {
     "name": "stderr",
     "output_type": "stream",
     "text": [
      "Using TensorFlow backend.\n"
     ]
    }
   ],
   "source": [
    "import os\n",
    "import numpy as np\n",
    "import pandas as pd\n",
    "import matplotlib.pyplot as plt\n",
    "import random\n",
    "from sklearn.neighbors import NearestNeighbors\n",
    "from keras import applications\n",
    "import math\n",
    "import seaborn as sn\n",
    "import random\n",
    "from scipy import ndarray\n",
    "import lightgbm as lgb\n",
    "from sklearn.metrics import confusion_matrix, classification_report\n",
    "from sklearn.metrics import balanced_accuracy_score\n",
    "from sklearn.metrics import f1_score\n",
    "from sklearn.metrics import cohen_kappa_score\n",
    "from sklearn.metrics import accuracy_score\n",
    "from sklearn.manifold import TSNE\n",
    "from sklearn.metrics import precision_score\n",
    "from sklearn.metrics import recall_score\n",
    "from PIL import Image\n",
    "import keras\n",
    "from keras.layers import Dense,GlobalAveragePooling2D\n",
    "from keras.applications import MobileNet\n",
    "from keras.preprocessing import image\n",
    "from keras.applications.mobilenet import preprocess_input\n",
    "from keras.preprocessing.image import ImageDataGenerator\n",
    "from keras.models import Model\n",
    "from keras.optimizers import Adam\n",
    "from keras.preprocessing import image"
   ]
  },
  {
   "cell_type": "code",
   "execution_count": 3,
   "metadata": {},
   "outputs": [],
   "source": [
    "from keras import models, layers"
   ]
  },
  {
   "cell_type": "code",
   "execution_count": 4,
   "metadata": {},
   "outputs": [],
   "source": [
    "import tensorflow as tf"
   ]
  },
  {
   "cell_type": "code",
   "execution_count": 5,
   "metadata": {},
   "outputs": [],
   "source": [
    "import scikitplot as skplt"
   ]
  },
  {
   "cell_type": "code",
   "execution_count": 6,
   "metadata": {},
   "outputs": [],
   "source": [
    "os.chdir('/kaggle/input')"
   ]
  },
  {
   "cell_type": "code",
   "execution_count": 7,
   "metadata": {},
   "outputs": [
    {
     "data": {
      "text/plain": [
       "'/kaggle/input'"
      ]
     },
     "execution_count": 7,
     "metadata": {},
     "output_type": "execute_result"
    }
   ],
   "source": [
    "pwd"
   ]
  },
  {
   "cell_type": "code",
   "execution_count": 8,
   "metadata": {
    "_cell_guid": "79c7e3d0-c299-4dcb-8224-4455121ee9b0",
    "_uuid": "d629ff2d2480ee46fbb7e2d37f6b5fab8052498a"
   },
   "outputs": [],
   "source": [
    "with open('V_all_np.npy', 'rb') as f:\n",
    "    v_all = np.load(f)"
   ]
  },
  {
   "cell_type": "code",
   "execution_count": 9,
   "metadata": {},
   "outputs": [],
   "source": [
    "with open('NVT_all_np.npy', 'rb') as f:\n",
    "    nvt_all = np.load(f)\n",
    "with open('NT_all_np.npy', 'rb') as f:\n",
    "    nt_all = np.load(f)\n",
    "# Any results you write to the current directory are saved as output."
   ]
  },
  {
   "cell_type": "code",
   "execution_count": 10,
   "metadata": {},
   "outputs": [],
   "source": [
    "nt_all = np.array(tf.image.resize(nt_all, [256, 256]))\n",
    "nvt_all = np.array(tf.image.resize(nvt_all, [256, 256]))\n",
    "v_all = np.array(tf.image.resize(v_all, [256, 256]))"
   ]
  },
  {
   "cell_type": "code",
   "execution_count": 11,
   "metadata": {},
   "outputs": [],
   "source": [
    "datagen = ImageDataGenerator(\n",
    "rotation_range=45,\n",
    "width_shift_range=0.2,\n",
    "height_shift_range=0.2,\n",
    "shear_range=0.2,\n",
    "zoom_range=0.2,\n",
    "horizontal_flip=True,\n",
    "fill_mode='nearest')"
   ]
  },
  {
   "cell_type": "code",
   "execution_count": 12,
   "metadata": {},
   "outputs": [
    {
     "data": {
      "text/plain": [
       "((292, 256, 256, 3), (263, 256, 256, 3), (536, 256, 256, 3))"
      ]
     },
     "execution_count": 12,
     "metadata": {},
     "output_type": "execute_result"
    }
   ],
   "source": [
    "v_all.shape, nvt_all.shape, nt_all.shape"
   ]
  },
  {
   "cell_type": "code",
   "execution_count": 13,
   "metadata": {},
   "outputs": [
    {
     "data": {
      "text/plain": [
       "0.7323556370302475"
      ]
     },
     "execution_count": 13,
     "metadata": {},
     "output_type": "execute_result"
    }
   ],
   "source": [
    "(263+536)/(292+263+536)"
   ]
  },
  {
   "cell_type": "code",
   "execution_count": 14,
   "metadata": {},
   "outputs": [],
   "source": [
    "data=np.concatenate((v_all,nvt_all,nt_all))"
   ]
  },
  {
   "cell_type": "code",
   "execution_count": 15,
   "metadata": {},
   "outputs": [
    {
     "data": {
      "text/plain": [
       "(1091, 256, 256, 3)"
      ]
     },
     "execution_count": 15,
     "metadata": {},
     "output_type": "execute_result"
    }
   ],
   "source": [
    "data.shape"
   ]
  },
  {
   "cell_type": "code",
   "execution_count": 16,
   "metadata": {},
   "outputs": [],
   "source": [
    "labels=np.zeros((1091, 3))\n",
    "for i in range(len(labels)):\n",
    "    if i < len(v_all):\n",
    "        labels[i][0]=1\n",
    "    elif len(v_all)-1<i < len(v_all) + len(nvt_all):\n",
    "        labels[i][1]=1\n",
    "    else:\n",
    "        labels[i][2]=1"
   ]
  },
  {
   "cell_type": "code",
   "execution_count": 17,
   "metadata": {},
   "outputs": [],
   "source": [
    "label_array = [x[0] + 2*x[1] + 3*x[2] for x in labels]"
   ]
  },
  {
   "cell_type": "code",
   "execution_count": 18,
   "metadata": {},
   "outputs": [
    {
     "data": {
      "text/plain": [
       "array([[1., 0., 0.],\n",
       "       [1., 0., 0.],\n",
       "       [1., 0., 0.],\n",
       "       ...,\n",
       "       [0., 0., 1.],\n",
       "       [0., 0., 1.],\n",
       "       [0., 0., 1.]])"
      ]
     },
     "execution_count": 18,
     "metadata": {},
     "output_type": "execute_result"
    }
   ],
   "source": [
    "labels"
   ]
  },
  {
   "cell_type": "code",
   "execution_count": 19,
   "metadata": {},
   "outputs": [],
   "source": [
    "data = data.astype('float32')/255"
   ]
  },
  {
   "cell_type": "code",
   "execution_count": 20,
   "metadata": {},
   "outputs": [],
   "source": [
    "from sklearn.model_selection import train_test_split\n",
    "X_train, X_test, y_train, y_test = train_test_split(data, labels, test_size=0.1, random_state=42)"
   ]
  },
  {
   "cell_type": "code",
   "execution_count": 21,
   "metadata": {},
   "outputs": [],
   "source": [
    "X_train, X_val, y_train, y_val = train_test_split(data, labels, test_size=0.2, random_state=42)"
   ]
  },
  {
   "cell_type": "code",
   "execution_count": 22,
   "metadata": {},
   "outputs": [],
   "source": [
    "aug = image.ImageDataGenerator( \n",
    "    rotation_range=20,\n",
    "    width_shift_range=0.2,\n",
    "    height_shift_range=0.2,\n",
    "    horizontal_flip=True,\n",
    "    vertical_flip = True)"
   ]
  },
  {
   "cell_type": "code",
   "execution_count": null,
   "metadata": {},
   "outputs": [],
   "source": []
  },
  {
   "cell_type": "code",
   "execution_count": 23,
   "metadata": {},
   "outputs": [],
   "source": [
    "del v_all, nvt_all, nt_all"
   ]
  },
  {
   "cell_type": "code",
   "execution_count": 24,
   "metadata": {},
   "outputs": [
    {
     "data": {
      "text/plain": [
       "((872, 256, 256, 3), (110, 256, 256, 3))"
      ]
     },
     "execution_count": 24,
     "metadata": {},
     "output_type": "execute_result"
    }
   ],
   "source": [
    "X_train.shape, X_test.shape"
   ]
  },
  {
   "cell_type": "code",
   "execution_count": 25,
   "metadata": {},
   "outputs": [],
   "source": [
    "n = 256"
   ]
  },
  {
   "cell_type": "code",
   "execution_count": 26,
   "metadata": {},
   "outputs": [
    {
     "name": "stdout",
     "output_type": "stream",
     "text": [
      "Model: \"sequential_1\"\n",
      "_________________________________________________________________\n",
      "Layer (type)                 Output Shape              Param #   \n",
      "=================================================================\n",
      "conv2d_1 (Conv2D)            (None, 254, 254, 64)      1792      \n",
      "_________________________________________________________________\n",
      "max_pooling2d_1 (MaxPooling2 (None, 127, 127, 64)      0         \n",
      "_________________________________________________________________\n",
      "conv2d_2 (Conv2D)            (None, 125, 125, 128)     73856     \n",
      "_________________________________________________________________\n",
      "max_pooling2d_2 (MaxPooling2 (None, 62, 62, 128)       0         \n",
      "_________________________________________________________________\n",
      "conv2d_3 (Conv2D)            (None, 60, 60, 128)       147584    \n",
      "_________________________________________________________________\n",
      "flatten_1 (Flatten)          (None, 460800)            0         \n",
      "_________________________________________________________________\n",
      "dropout_1 (Dropout)          (None, 460800)            0         \n",
      "_________________________________________________________________\n",
      "dense_1 (Dense)              (None, 128)               58982528  \n",
      "_________________________________________________________________\n",
      "dense_2 (Dense)              (None, 3)                 387       \n",
      "=================================================================\n",
      "Total params: 59,206,147\n",
      "Trainable params: 59,206,147\n",
      "Non-trainable params: 0\n",
      "_________________________________________________________________\n"
     ]
    }
   ],
   "source": [
    "model = models.Sequential()\n",
    "model.add(layers.Conv2D( 64, (3,3), activation='relu', input_shape = (n, n, 3)))\n",
    "model.add(layers.MaxPooling2D((2, 2)))\n",
    "model.add(layers.Conv2D(128, (3, 3), activation='relu'))\n",
    "model.add(layers.MaxPooling2D((2, 2)))\n",
    "model.add(layers.Conv2D(128, (3, 3), activation='relu'))\n",
    "model.add(layers.Flatten())\n",
    "model.add(layers.Dropout(0.5))\n",
    "model.add(layers.Dense(128, activation='relu'))\n",
    "model.add(layers.Dense(3, activation='softmax'))\n",
    "\n",
    "model.summary()"
   ]
  },
  {
   "cell_type": "code",
   "execution_count": 27,
   "metadata": {},
   "outputs": [],
   "source": [
    "model.compile(optimizer= keras.optimizers.SGD(learning_rate=0.01, momentum=0.2, nesterov=False),\n",
    "loss='categorical_crossentropy',\n",
    "metrics=['categorical_accuracy'])\n"
   ]
  },
  {
   "cell_type": "code",
   "execution_count": 28,
   "metadata": {},
   "outputs": [
    {
     "data": {
      "text/plain": [
       "array([[0., 0., 1.],\n",
       "       [0., 0., 1.],\n",
       "       [0., 0., 1.],\n",
       "       ...,\n",
       "       [1., 0., 0.],\n",
       "       [0., 0., 1.],\n",
       "       [0., 0., 1.]])"
      ]
     },
     "execution_count": 28,
     "metadata": {},
     "output_type": "execute_result"
    }
   ],
   "source": [
    "y_train"
   ]
  },
  {
   "cell_type": "code",
   "execution_count": 29,
   "metadata": {},
   "outputs": [
    {
     "data": {
      "text/plain": [
       "872"
      ]
     },
     "execution_count": 29,
     "metadata": {},
     "output_type": "execute_result"
    }
   ],
   "source": [
    "len(X_train)"
   ]
  },
  {
   "cell_type": "code",
   "execution_count": null,
   "metadata": {},
   "outputs": [],
   "source": []
  },
  {
   "cell_type": "code",
   "execution_count": 30,
   "metadata": {},
   "outputs": [
    {
     "name": "stdout",
     "output_type": "stream",
     "text": [
      "Epoch 1/50\n",
      "55/55 [==============================] - 19s 346ms/step - loss: 1.1599 - categorical_accuracy: 0.4851 - val_loss: 1.1681 - val_categorical_accuracy: 0.4292\n",
      "Epoch 2/50\n",
      "55/55 [==============================] - 16s 283ms/step - loss: 1.0225 - categorical_accuracy: 0.5103 - val_loss: 0.6184 - val_categorical_accuracy: 0.4292\n",
      "Epoch 3/50\n",
      "55/55 [==============================] - 15s 281ms/step - loss: 0.9512 - categorical_accuracy: 0.5126 - val_loss: 0.3843 - val_categorical_accuracy: 0.4977\n",
      "Epoch 4/50\n",
      "55/55 [==============================] - 14s 263ms/step - loss: 0.8913 - categorical_accuracy: 0.5562 - val_loss: 1.3465 - val_categorical_accuracy: 0.3881\n",
      "Epoch 5/50\n",
      "55/55 [==============================] - 15s 272ms/step - loss: 0.9007 - categorical_accuracy: 0.5757 - val_loss: 1.3065 - val_categorical_accuracy: 0.6256\n",
      "Epoch 6/50\n",
      "55/55 [==============================] - 16s 289ms/step - loss: 0.8316 - categorical_accuracy: 0.6032 - val_loss: 0.7255 - val_categorical_accuracy: 0.5845\n",
      "Epoch 7/50\n",
      "55/55 [==============================] - 15s 271ms/step - loss: 0.8457 - categorical_accuracy: 0.6135 - val_loss: 0.9426 - val_categorical_accuracy: 0.5205\n",
      "Epoch 8/50\n",
      "55/55 [==============================] - 15s 269ms/step - loss: 0.8276 - categorical_accuracy: 0.5872 - val_loss: 0.4765 - val_categorical_accuracy: 0.7123\n",
      "Epoch 9/50\n",
      "55/55 [==============================] - 15s 269ms/step - loss: 0.7589 - categorical_accuracy: 0.6376 - val_loss: 1.5044 - val_categorical_accuracy: 0.6986\n",
      "Epoch 10/50\n",
      "55/55 [==============================] - 16s 284ms/step - loss: 0.8221 - categorical_accuracy: 0.6284 - val_loss: 0.5343 - val_categorical_accuracy: 0.5845\n",
      "Epoch 11/50\n",
      "55/55 [==============================] - 15s 266ms/step - loss: 0.7420 - categorical_accuracy: 0.6800 - val_loss: 0.7986 - val_categorical_accuracy: 0.7260\n",
      "Epoch 12/50\n",
      "55/55 [==============================] - 15s 268ms/step - loss: 0.6957 - categorical_accuracy: 0.7213 - val_loss: 1.0241 - val_categorical_accuracy: 0.5890\n",
      "Epoch 13/50\n",
      "55/55 [==============================] - 15s 276ms/step - loss: 0.6982 - categorical_accuracy: 0.7156 - val_loss: 1.3388 - val_categorical_accuracy: 0.6119\n",
      "Epoch 14/50\n",
      "55/55 [==============================] - 16s 284ms/step - loss: 0.6415 - categorical_accuracy: 0.7282 - val_loss: 0.3686 - val_categorical_accuracy: 0.7626\n",
      "Epoch 15/50\n",
      "55/55 [==============================] - 16s 284ms/step - loss: 0.7046 - categorical_accuracy: 0.6869 - val_loss: 0.1460 - val_categorical_accuracy: 0.6484\n",
      "Epoch 16/50\n",
      "55/55 [==============================] - 15s 274ms/step - loss: 0.6532 - categorical_accuracy: 0.7282 - val_loss: 0.9709 - val_categorical_accuracy: 0.7808\n",
      "Epoch 17/50\n",
      "55/55 [==============================] - 15s 277ms/step - loss: 0.6649 - categorical_accuracy: 0.7351 - val_loss: 0.6419 - val_categorical_accuracy: 0.7032\n",
      "Epoch 18/50\n",
      "55/55 [==============================] - 16s 294ms/step - loss: 0.5776 - categorical_accuracy: 0.7638 - val_loss: 1.1082 - val_categorical_accuracy: 0.7854\n",
      "Epoch 19/50\n",
      "55/55 [==============================] - 15s 271ms/step - loss: 0.6205 - categorical_accuracy: 0.7615 - val_loss: 1.1526 - val_categorical_accuracy: 0.7123\n",
      "Epoch 20/50\n",
      "55/55 [==============================] - 15s 275ms/step - loss: 0.6437 - categorical_accuracy: 0.7385 - val_loss: 0.1740 - val_categorical_accuracy: 0.7260\n",
      "Epoch 21/50\n",
      "55/55 [==============================] - 15s 267ms/step - loss: 0.6109 - categorical_accuracy: 0.7638 - val_loss: 0.2295 - val_categorical_accuracy: 0.7626\n",
      "Epoch 22/50\n",
      "55/55 [==============================] - 16s 288ms/step - loss: 0.5359 - categorical_accuracy: 0.7810 - val_loss: 0.5085 - val_categorical_accuracy: 0.7900\n",
      "Epoch 23/50\n",
      "55/55 [==============================] - 15s 278ms/step - loss: 0.5686 - categorical_accuracy: 0.7810 - val_loss: 0.6391 - val_categorical_accuracy: 0.7626\n",
      "Epoch 24/50\n",
      "55/55 [==============================] - 15s 277ms/step - loss: 0.5619 - categorical_accuracy: 0.7718 - val_loss: 1.1821 - val_categorical_accuracy: 0.7945\n",
      "Epoch 25/50\n",
      "55/55 [==============================] - 15s 280ms/step - loss: 0.4898 - categorical_accuracy: 0.8154 - val_loss: 0.1981 - val_categorical_accuracy: 0.7626\n",
      "Epoch 26/50\n",
      "55/55 [==============================] - 16s 292ms/step - loss: 0.4843 - categorical_accuracy: 0.8142 - val_loss: 0.6605 - val_categorical_accuracy: 0.7991\n",
      "Epoch 27/50\n",
      "55/55 [==============================] - 15s 276ms/step - loss: 0.4590 - categorical_accuracy: 0.8314 - val_loss: 0.0904 - val_categorical_accuracy: 0.7854\n",
      "Epoch 28/50\n",
      "55/55 [==============================] - 15s 279ms/step - loss: 0.5028 - categorical_accuracy: 0.7947 - val_loss: 0.1076 - val_categorical_accuracy: 0.7945\n",
      "Epoch 29/50\n",
      "55/55 [==============================] - 15s 278ms/step - loss: 0.4386 - categorical_accuracy: 0.8222 - val_loss: 0.1364 - val_categorical_accuracy: 0.7808\n",
      "Epoch 30/50\n",
      "55/55 [==============================] - 16s 291ms/step - loss: 0.4408 - categorical_accuracy: 0.8349 - val_loss: 0.2961 - val_categorical_accuracy: 0.8356\n",
      "Epoch 31/50\n",
      "55/55 [==============================] - 15s 280ms/step - loss: 0.5311 - categorical_accuracy: 0.7913 - val_loss: 0.9807 - val_categorical_accuracy: 0.8128\n",
      "Epoch 32/50\n",
      "55/55 [==============================] - 15s 271ms/step - loss: 0.4511 - categorical_accuracy: 0.8280 - val_loss: 0.5905 - val_categorical_accuracy: 0.7443\n",
      "Epoch 33/50\n",
      "55/55 [==============================] - 15s 276ms/step - loss: 0.5452 - categorical_accuracy: 0.7924 - val_loss: 0.1554 - val_categorical_accuracy: 0.7078\n",
      "Epoch 34/50\n",
      "55/55 [==============================] - 16s 295ms/step - loss: 0.5048 - categorical_accuracy: 0.8142 - val_loss: 0.4391 - val_categorical_accuracy: 0.6804\n",
      "Epoch 35/50\n",
      "55/55 [==============================] - 15s 276ms/step - loss: 0.4556 - categorical_accuracy: 0.8337 - val_loss: 0.2172 - val_categorical_accuracy: 0.8037\n",
      "Epoch 36/50\n",
      "55/55 [==============================] - 15s 280ms/step - loss: 0.4174 - categorical_accuracy: 0.8486 - val_loss: 1.3122 - val_categorical_accuracy: 0.8174\n",
      "Epoch 37/50\n",
      "55/55 [==============================] - 16s 287ms/step - loss: 0.4482 - categorical_accuracy: 0.8394 - val_loss: 0.2138 - val_categorical_accuracy: 0.7534\n",
      "Epoch 38/50\n",
      "55/55 [==============================] - 16s 297ms/step - loss: 0.4388 - categorical_accuracy: 0.8372 - val_loss: 0.1624 - val_categorical_accuracy: 0.8037\n",
      "Epoch 39/50\n",
      "55/55 [==============================] - 15s 277ms/step - loss: 0.4079 - categorical_accuracy: 0.8601 - val_loss: 0.0565 - val_categorical_accuracy: 0.8174\n",
      "Epoch 40/50\n",
      "55/55 [==============================] - 15s 279ms/step - loss: 0.4045 - categorical_accuracy: 0.8544 - val_loss: 1.2860 - val_categorical_accuracy: 0.8402\n",
      "Epoch 41/50\n",
      "55/55 [==============================] - 15s 278ms/step - loss: 0.4075 - categorical_accuracy: 0.8578 - val_loss: 1.2545 - val_categorical_accuracy: 0.8128\n",
      "Epoch 42/50\n",
      "55/55 [==============================] - 16s 289ms/step - loss: 0.3829 - categorical_accuracy: 0.8498 - val_loss: 0.0150 - val_categorical_accuracy: 0.7078\n",
      "Epoch 43/50\n",
      "55/55 [==============================] - 15s 280ms/step - loss: 0.3964 - categorical_accuracy: 0.8612 - val_loss: 1.1500 - val_categorical_accuracy: 0.8174\n",
      "Epoch 44/50\n",
      "55/55 [==============================] - 15s 276ms/step - loss: 0.3507 - categorical_accuracy: 0.8670 - val_loss: 0.0570 - val_categorical_accuracy: 0.8356\n",
      "Epoch 45/50\n",
      "55/55 [==============================] - 15s 279ms/step - loss: 0.3937 - categorical_accuracy: 0.8440 - val_loss: 0.9508 - val_categorical_accuracy: 0.8356\n",
      "Epoch 46/50\n",
      "55/55 [==============================] - 16s 287ms/step - loss: 0.3904 - categorical_accuracy: 0.8589 - val_loss: 1.0538 - val_categorical_accuracy: 0.7032\n",
      "Epoch 47/50\n",
      "55/55 [==============================] - 15s 274ms/step - loss: 0.3668 - categorical_accuracy: 0.8670 - val_loss: 0.2071 - val_categorical_accuracy: 0.8493\n",
      "Epoch 48/50\n",
      "55/55 [==============================] - 15s 277ms/step - loss: 0.3719 - categorical_accuracy: 0.8624 - val_loss: 0.0667 - val_categorical_accuracy: 0.8584\n",
      "Epoch 49/50\n",
      "55/55 [==============================] - 16s 291ms/step - loss: 0.3650 - categorical_accuracy: 0.8509 - val_loss: 0.1200 - val_categorical_accuracy: 0.8539\n",
      "Epoch 50/50\n",
      "55/55 [==============================] - 16s 283ms/step - loss: 0.3430 - categorical_accuracy: 0.8784 - val_loss: 0.2733 - val_categorical_accuracy: 0.8630\n"
     ]
    }
   ],
   "source": [
    "history = model.fit_generator(aug.flow(X_train, y_train, batch_size=16), \n",
    "                              epochs = 50, \n",
    "                               validation_data = aug.flow(X_val, y_val, batch_size=8))\n",
    "#                              class_weight = {0: (292)/(292+263+536), 1:(263)/(292+263+536), 2: (536)/(292+263+536)}, \n",
    "                              #validation_split = 0.2)"
   ]
  },
  {
   "cell_type": "markdown",
   "metadata": {},
   "source": [
    "history = model.fit(X_train, y_train, \n",
    "                              epochs = 50, \n",
    "                              batch_size = 64, \n",
    "#                              class_weight = {0: (292)/(292+263+536), 1:(263)/(292+263+536), 2: (536)/(292+263+536)}, \n",
    "                              validation_split = 0.2)"
   ]
  },
  {
   "cell_type": "code",
   "execution_count": 31,
   "metadata": {},
   "outputs": [],
   "source": [
    "output = model.predict(X_test)"
   ]
  },
  {
   "cell_type": "code",
   "execution_count": 32,
   "metadata": {},
   "outputs": [],
   "source": [
    "y_test = [x[0] + 2*x[1] + 3*x[2] for x in y_test]"
   ]
  },
  {
   "cell_type": "code",
   "execution_count": 33,
   "metadata": {},
   "outputs": [
    {
     "data": {
      "text/plain": [
       "<matplotlib.axes._subplots.AxesSubplot at 0x7ff237a30b70>"
      ]
     },
     "execution_count": 33,
     "metadata": {},
     "output_type": "execute_result"
    },
    {
     "data": {
      "image/png": "[encoded data removed]",
      "text/plain": [
       "<Figure size 432x288 with 1 Axes>"
      ]
     },
     "metadata": {
      "needs_background": "light"
     },
     "output_type": "display_data"
    }
   ],
   "source": [
    "skplt.metrics.plot_roc(y_test, output)"
   ]
  },
  {
   "cell_type": "code",
   "execution_count": 34,
   "metadata": {},
   "outputs": [
    {
     "data": {
      "text/plain": [
       "<matplotlib.axes._subplots.AxesSubplot at 0x7ff2f7f6d518>"
      ]
     },
     "execution_count": 34,
     "metadata": {},
     "output_type": "execute_result"
    },
    {
     "data": {
      "image/png": "[encoded data removed]",
      "text/plain": [
       "<Figure size 432x288 with 1 Axes>"
      ]
     },
     "metadata": {
      "needs_background": "light"
     },
     "output_type": "display_data"
    }
   ],
   "source": [
    "skplt.metrics.plot_precision_recall(y_test, output)"
   ]
  },
  {
   "cell_type": "code",
   "execution_count": 35,
   "metadata": {},
   "outputs": [],
   "source": [
    "epoch = range(1, 51)"
   ]
  },
  {
   "cell_type": "code",
   "execution_count": 36,
   "metadata": {},
   "outputs": [
    {
     "data": {
      "text/plain": [
       "[<matplotlib.lines.Line2D at 0x7ff2f7ee47f0>]"
      ]
     },
     "execution_count": 36,
     "metadata": {},
     "output_type": "execute_result"
    },
    {
     "data": {
      "image/png": "[encoded data removed]",
      "text/plain": [
       "<Figure size 432x288 with 1 Axes>"
      ]
     },
     "metadata": {
      "needs_background": "light"
     },
     "output_type": "display_data"
    }
   ],
   "source": [
    "plt.plot(epoch, history.history['categorical_accuracy'])\n",
    "plt.plot(epoch, history.history['val_categorical_accuracy'])\n",
    "#plt.ylim([0,2])"
   ]
  },
  {
   "cell_type": "code",
   "execution_count": 37,
   "metadata": {},
   "outputs": [
    {
     "data": {
      "text/plain": [
       "[<matplotlib.lines.Line2D at 0x7ff2f7e4eb38>]"
      ]
     },
     "execution_count": 37,
     "metadata": {},
     "output_type": "execute_result"
    },
    {
     "data": {
      "image/png": "[encoded data removed]",
      "text/plain": [
       "<Figure size 432x288 with 1 Axes>"
      ]
     },
     "metadata": {
      "needs_background": "light"
     },
     "output_type": "display_data"
    }
   ],
   "source": [
    "plt.plot(epoch, history.history['loss'])\n",
    "plt.plot(epoch, history.history['val_loss'])\n",
    "#plt.ylim([0,4])"
   ]
  },
  {
   "cell_type": "code",
   "execution_count": 38,
   "metadata": {},
   "outputs": [],
   "source": [
    "labels_dict = {'V':1, 'NVT':2, 'NT': 3}"
   ]
  },
  {
   "cell_type": "code",
   "execution_count": 39,
   "metadata": {},
   "outputs": [
    {
     "data": {
      "text/plain": [
       "(array([1., 2., 3.]), array([34, 26, 50]))"
      ]
     },
     "execution_count": 39,
     "metadata": {},
     "output_type": "execute_result"
    }
   ],
   "source": [
    "np.unique(y_test, return_counts = True)"
   ]
  },
  {
   "cell_type": "code",
   "execution_count": 40,
   "metadata": {},
   "outputs": [
    {
     "data": {
      "text/plain": [
       "(array([0., 1.]), array([1744,  872]))"
      ]
     },
     "execution_count": 40,
     "metadata": {},
     "output_type": "execute_result"
    }
   ],
   "source": [
    "np.unique(y_train, return_counts = True)"
   ]
  },
  {
   "cell_type": "code",
   "execution_count": null,
   "metadata": {},
   "outputs": [],
   "source": []
  },
  {
   "cell_type": "code",
   "execution_count": null,
   "metadata": {},
   "outputs": [],
   "source": []
  }
 ],
 "metadata": {
  "kernelspec": {
   "display_name": "Python 3",
   "language": "python",
   "name": "python3"
  },
  "language_info": {
   "codemirror_mode": {
    "name": "ipython",
    "version": 3
   },
   "file_extension": ".py",
   "mimetype": "text/x-python",
   "name": "python",
   "nbconvert_exporter": "python",
   "pygments_lexer": "ipython3",
   "version": "3.6.6"
  }
 },
 "nbformat": 4,
 "nbformat_minor": 1
}
